{
 "cells": [
  {
   "cell_type": "code",
   "execution_count": 5,
   "metadata": {
    "collapsed": false
   },
   "outputs": [],
   "source": [
    "%matplotlib inline\n",
    "from numba import jit\n",
    "import numpy as np\n",
    "import time\n",
    "\n",
    "import CyMod\n",
    "import _SwigMod as SwigMod\n",
    "\n",
    "import pyopencl as cl"
   ]
  },
  {
   "cell_type": "code",
   "execution_count": 6,
   "metadata": {
    "collapsed": true
   },
   "outputs": [],
   "source": [
    "@jit\n",
    "def Num_NpDot(a, b):\n",
    "    return np.dot(a, b)\n",
    "@jit    \n",
    "def Num_Dot(a, b):\n",
    "    c = np.zeros((a.shape[0], b.shape[1]))\n",
    "    for i in range(a.shape[0]):\n",
    "        for j in range(b.shape[1]):\n",
    "            for k in range(a.shape[1]):\n",
    "                c[i][j] += a[i][k] * b[k][j]\n",
    "    return c"
   ]
  },
  {
   "cell_type": "code",
   "execution_count": 7,
   "metadata": {
    "collapsed": false
   },
   "outputs": [
    {
     "data": {
      "text/plain": [
       "[<pyopencl.Device 'Intel(R) Core(TM) i3-3240 CPU @ 3.40GHz' on 'Intel(R) OpenCL' at 0x1e8947b9820>,\n",
       " <pyopencl.Device 'Intel(R) HD Graphics 2500' on 'Intel(R) OpenCL' at 0x1e892ad7f50>]"
      ]
     },
     "execution_count": 7,
     "metadata": {},
     "output_type": "execute_result"
    }
   ],
   "source": [
    "plat    = cl.get_platforms()\n",
    "devices = plat[0].get_devices()\n",
    "devices"
   ]
  },
  {
   "cell_type": "code",
   "execution_count": 8,
   "metadata": {
    "collapsed": false
   },
   "outputs": [
    {
     "data": {
      "text/plain": [
       "[<pyopencl.Device 'Intel(R) HD Graphics 2500' on 'Intel(R) OpenCL' at 0x1e892ad7f50>]"
      ]
     },
     "execution_count": 8,
     "metadata": {},
     "output_type": "execute_result"
    }
   ],
   "source": [
    "ctx     = cl.Context([devices[1]])\n",
    "ctx.get_info(cl.context_info.DEVICES)"
   ]
  },
  {
   "cell_type": "code",
   "execution_count": 9,
   "metadata": {
    "collapsed": false
   },
   "outputs": [
    {
     "name": "stderr",
     "output_type": "stream",
     "text": [
      "D:\\Users\\Chachay\\Anaconda3\\lib\\site-packages\\pyopencl\\cffi_cl.py:1476: CompilerWarning: Non-empty compiler output encountered. Set the environment variable PYOPENCL_COMPILER_OUTPUT=1 to see more.\n",
      "  \"to see more.\", CompilerWarning)\n"
     ]
    }
   ],
   "source": [
    "ctx = cl.create_some_context()\n",
    "queue = cl.CommandQueue(ctx)\n",
    "\n",
    "prg = cl.Program(ctx, \"\"\"\n",
    "    __kernel void OpenCL_Dot(const unsigned int n1, const unsigned int n2,\n",
    "                            __global float * mat1, __global float * mat2,\n",
    "                            __global float * res) {\n",
    "\n",
    "        int i = get_global_id(0);\n",
    "        int j = get_global_id(1);\n",
    "\n",
    "        float tmp = 0;\n",
    "\n",
    "        for (int k = 0; k < n1; k++){\n",
    "            tmp += mat1[i*n1+k] * mat2[k*n2+j];\n",
    "            res[i*n2+j] = tmp;\n",
    "        }\n",
    "        if(i==0 && j==0)res[i*n2+j] = 10.0;\n",
    "            \n",
    "    }\n",
    "    \"\"\").build()"
   ]
  },
  {
   "cell_type": "code",
   "execution_count": 10,
   "metadata": {
    "collapsed": false
   },
   "outputs": [],
   "source": [
    "N = 1000\n",
    "# Generate NxN randomized matrix\n",
    "ma = np.random.rand(N, N)\n",
    "mb = np.random.rand(N, N)"
   ]
  },
  {
   "cell_type": "code",
   "execution_count": 11,
   "metadata": {
    "collapsed": false
   },
   "outputs": [
    {
     "name": "stdout",
     "output_type": "stream",
     "text": [
      "1. Numpy Native\n",
      "   10 loops, best of 3: 188 ms per loop\n"
     ]
    }
   ],
   "source": [
    "print(\"1. Numpy Native\\n   \", end='')\n",
    "%timeit mc = np.dot(ma, mb)"
   ]
  },
  {
   "cell_type": "code",
   "execution_count": 12,
   "metadata": {
    "collapsed": false
   },
   "outputs": [
    {
     "name": "stdout",
     "output_type": "stream",
     "text": [
      "2. Namba Simple Mult\n",
      "   1 loop, best of 3: 8.11 s per loop\n",
      "3. Namba Numpy\n",
      "   The slowest run took 12.82 times longer than the fastest. This could mean that an intermediate result is being cached.\n",
      "1 loop, best of 3: 57.1 ms per loop\n"
     ]
    }
   ],
   "source": [
    "print(\"2. Namba Simple Mult\\n   \", end='')\n",
    "%timeit mc = Num_Dot(ma, mb)\n",
    "\n",
    "print(\"3. Namba Numpy\\n   \", end='')\n",
    "%timeit mc = Num_NpDot(ma, mb)"
   ]
  },
  {
   "cell_type": "code",
   "execution_count": 13,
   "metadata": {
    "collapsed": false
   },
   "outputs": [
    {
     "name": "stdout",
     "output_type": "stream",
     "text": [
      "5. Cython Numpy\n",
      "   1 loop, best of 3: 174 ms per loop\n"
     ]
    }
   ],
   "source": [
    "#print(\"4. Cython Simple Mult\\n   \", end='')\n",
    "#%timeit mc = CyMod.Cy_Dot(ma,mb)\n",
    "\n",
    "print(\"5. Cython Numpy\\n   \", end='')\n",
    "%timeit mc = CyMod.Cy_NpDot(ma,mb)"
   ]
  },
  {
   "cell_type": "code",
   "execution_count": 14,
   "metadata": {
    "collapsed": false
   },
   "outputs": [
    {
     "name": "stdout",
     "output_type": "stream",
     "text": [
      "6. Swig Simple Mult\n",
      "   1 loop, best of 3: 7.58 s per loop\n"
     ]
    }
   ],
   "source": [
    "print(\"6. Swig Simple Mult\\n   \", end='')\n",
    "%timeit mc = SwigMod.Swig_Dot(ma,mb)\n",
    "\n",
    "# print(\"7. Swig MKL cblas_dgemm\\n   \", end='')\n",
    "# %timeit mc = SwigMod.Swig_Dot_MKL(ma,mb)"
   ]
  },
  {
   "cell_type": "markdown",
   "metadata": {},
   "source": [
    "※ OpenCLはメモリー転送のタイミング管理が悪いのか計算の結果が不正確。"
   ]
  },
  {
   "cell_type": "code",
   "execution_count": 15,
   "metadata": {
    "collapsed": false
   },
   "outputs": [
    {
     "name": "stdout",
     "output_type": "stream",
     "text": [
      "8. OpenCL Simple Mult(Parallel)\n",
      "   1 loop, best of 3: 1.01 s per loop\n"
     ]
    }
   ],
   "source": [
    "def OpenCL_simpDot(a, b):\n",
    "    global queue\n",
    "    c = np.zeros((a.shape[0], b.shape[1]))\n",
    "    \n",
    "    mf = cl.mem_flags\n",
    "    ma_buf = cl.Buffer(ctx, mf.READ_ONLY | mf.COPY_HOST_PTR, hostbuf=a)\n",
    "    mb_buf = cl.Buffer(ctx, mf.READ_ONLY | mf.COPY_HOST_PTR, hostbuf=b)\n",
    "    mc_buf = cl.Buffer(ctx, mf.WRITE_ONLY, c.nbytes)\n",
    "\n",
    "    prg.OpenCL_Dot(queue, c.shape, None, \n",
    "                    np.int32(a.shape[1]), np.int32(b.shape[1]),\n",
    "                    ma_buf, mb_buf, mc_buf)\n",
    "    queue.finish()\n",
    "    cl.enqueue_copy(queue, c, mc_buf)\n",
    "    return c\n",
    "\n",
    "print(\"8. OpenCL Simple Mult(Parallel)\\n   \", end='')\n",
    "%timeit mc = OpenCL_simpDot(ma,mb)"
   ]
  },
  {
   "cell_type": "markdown",
   "metadata": {},
   "source": [
    "# 参考文献\n",
    "* [Python \\(NumPy\\) と Common Lisp \\(LLA\\) で行列積の実行速度を比較する \\- 不確定特異点](http://tanakahx.hatenablog.com/entry/2015/09/25/070000)\n",
    "* [Parallel programming with opencl and python – prototype](http://www.nehalemlabs.net/prototype/blog/2014/04/28/parallel-programming-with-opencl-and-python/)\n",
    "* [10\\.3: OpenCL](http://bathompso.com/education/compphys/parallel/opencl/)\n",
    "\n",
    "* [Multiplying Matrices Using dgemm \\| Intel® Software](https://software.intel.com/en-us/node/529735)\n",
    "* [Intel® Math Kernel Library Link Line Advisor \\| Intel® Software](https://software.intel.com/en-us/articles/intel-mkl-link-line-advisor)\n",
    "* [cblas\\_dgemm \\- Accelerate \\| Apple Developer Documentation](https://developer.apple.com/reference/accelerate/1513282-cblas_dgemm?language=objc)\n"
   ]
  },
  {
   "cell_type": "code",
   "execution_count": null,
   "metadata": {
    "collapsed": true
   },
   "outputs": [],
   "source": []
  }
 ],
 "metadata": {
  "kernelspec": {
   "display_name": "Python 3",
   "language": "python",
   "name": "python3"
  },
  "language_info": {
   "codemirror_mode": {
    "name": "ipython",
    "version": 3
   },
   "file_extension": ".py",
   "mimetype": "text/x-python",
   "name": "python",
   "nbconvert_exporter": "python",
   "pygments_lexer": "ipython3",
   "version": "3.6.0"
  }
 },
 "nbformat": 4,
 "nbformat_minor": 2
}
